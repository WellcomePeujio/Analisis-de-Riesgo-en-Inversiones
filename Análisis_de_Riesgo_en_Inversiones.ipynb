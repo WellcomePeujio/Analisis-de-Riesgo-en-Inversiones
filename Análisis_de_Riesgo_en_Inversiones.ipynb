{
  "nbformat": 4,
  "nbformat_minor": 0,
  "metadata": {
    "colab": {
      "private_outputs": true,
      "provenance": [],
      "authorship_tag": "ABX9TyNHm+zXNsLPZegnoC35yOei",
      "include_colab_link": true
    },
    "kernelspec": {
      "name": "python3",
      "display_name": "Python 3"
    },
    "language_info": {
      "name": "python"
    }
  },
  "cells": [
    {
      "cell_type": "markdown",
      "metadata": {
        "id": "view-in-github",
        "colab_type": "text"
      },
      "source": [
        "<a href=\"https://colab.research.google.com/github/WellcomePeujio/Analisis-de-Riesgo-en-Inversiones/blob/main/An%C3%A1lisis_de_Riesgo_en_Inversiones.ipynb\" target=\"_parent\"><img src=\"https://colab.research.google.com/assets/colab-badge.svg\" alt=\"Open In Colab\"/></a>"
      ]
    },
    {
      "cell_type": "markdown",
      "source": [
        "# Análisis de Riesgo en Inversiones\n",
        "\n",
        "## Problema\n",
        "\n",
        "Un portafolio de inversión está compuesto por 60% de acciones y 40% de bonos. Las acciones tienen una desviación estándar del 15% y los bonos del 5%. La correlación entre ambos es 0.3.\n",
        "\n",
        "## Preguntas:\n",
        "\n",
        "1. **Calcula el riesgo total (desviación estándar) del portafolio.**\n",
        "\n",
        "2. **¿Cómo cambia el riesgo si la correlación entre las acciones y los bonos aumenta a 0.5?**\n"
      ],
      "metadata": {
        "id": "_qS1AIiTgByH"
      }
    },
    {
      "cell_type": "markdown",
      "source": [
        "# Resolución Matemática: Análisis de Riesgo en Inversiones\n",
        "\n",
        "## Datos del problema:\n",
        "\n",
        "- **Peso de las acciones (w₁):** 60% = 0.60\n",
        "- **Peso de los bonos (w₂):** 40% = 0.40\n",
        "- **Desviación estándar de las acciones (σ₁):** 15% = 0.15\n",
        "- **Desviación estándar de los bonos (σ₂):** 5% = 0.05\n",
        "- **Correlación inicial (ρ):** 0.3\n",
        "\n",
        "## 1. Cálculo del Riesgo Total (Desviación Estándar) del Portafolio\n",
        "\n",
        "La desviación estándar total del portafolio se calcula utilizando la fórmula de varianza para un portafolio con dos activos:\n",
        "\n",
        "$$\n",
        "\\sigma_p = \\sqrt{(w_1 . \\sigma_1)^2 + (w_2 . \\sigma_2)^2 + 2 . w_1 . w_2 . \\sigma_1 . \\sigma_2 . \\rho}\n",
        "$$\n",
        "\n",
        "### Sustituyendo los valores iniciales:\n",
        "\n",
        "$$\n",
        "\\sigma_p = \\sqrt{(0.60 \\times 0.15)^2 + (0.40 \\times 0.05)^2 + 2 \\times 0.60 \\times 0.40 \\times 0.15 \\times 0.05 \\times 0.3}\n",
        "$$\n",
        "\n",
        "### Paso 1: Calcular cada término\n",
        "\n",
        "1. **Acciones:**\n",
        "   \\$\n",
        "   (0.60 \\times 0.15)^2 = 0.054^2 = 0.002916\n",
        "   \\$\n",
        "\n",
        "2. **Bonos:**\n",
        "   \\$\n",
        "   (0.40 \\times 0.05)^2 = 0.02^2 = 0.0004\n",
        "   \\$\n",
        "\n",
        "3. **Término de correlación:**\n",
        "   \\$\n",
        "   2 \\times 0.60 \\times 0.40 \\times 0.15 \\times 0.05 \\times 0.3 = 0.00108\n",
        "   \\$\n",
        "\n",
        "### Paso 2: Sumar los términos\n",
        "\n",
        "\\$\n",
        "\\sigma_p = \\sqrt{0.002916 + 0.0004 + 0.00108} = \\sqrt{0.004396}\n",
        "\\$\n",
        "\n",
        "### Resultado:\n",
        "\n",
        "\\$\n",
        "\\sigma_p \\approx 0.0663 \\quad \\text{(6.63%)}\n",
        "\\$\n",
        "\n",
        "Por lo tanto, el riesgo total del portafolio es aproximadamente **6.63%**.\n",
        "\n",
        "## 2. Riesgo cuando la correlación aumenta a 0.5\n",
        "\n",
        "Utilizando la misma fórmula, pero con una correlación de 0.5:\n",
        "\n",
        "$$\n",
        "\\sigma_p = \\sqrt{(0.60 \\times 0.15)^2 + (0.40 \\times 0.05)^2 + 2 \\times 0.60 \\times 0.40 \\times 0.15 \\times 0.05 \\times 0.5}\n",
        "$$\n",
        "\n",
        "### Paso 1: Calcular el término de correlación ajustado\n",
        "\n",
        "\\$\n",
        "2 \\times 0.60 \\times 0.40 \\times 0.15 \\times 0.05 \\times 0.5 = 0.0018\n",
        "\\$\n",
        "\n",
        "### Paso 2: Sumar los términos\n",
        "\n",
        "\\$\n",
        "\\sigma_p = \\sqrt{0.002916 + 0.0004 + 0.0018} = \\sqrt{0.005116}\n",
        "\\$\n",
        "\n",
        "### Resultado:\n",
        "\n",
        "\\$\n",
        "\\sigma_p \\approx 0.0715 \\quad \\text{(7.15%)}\n",
        "\\$\n",
        "\n",
        "Por lo tanto, si la correlación aumenta a 0.5, el riesgo total del portafolio sería aproximadamente **7.15%**.\n"
      ],
      "metadata": {
        "id": "Au_5K2C5gHPb"
      }
    },
    {
      "cell_type": "code",
      "source": [
        "import numpy as np\n",
        "import matplotlib.pyplot as plt\n",
        "\n",
        "# Datos del problema\n",
        "w1 = 0.60  # Peso de las acciones\n",
        "w2 = 0.40  # Peso de los bonos\n",
        "sigma1 = 0.15  # Desviación estándar de las acciones\n",
        "sigma2 = 0.05  # Desviación estándar de los bonos\n",
        "\n",
        "# Fórmula para calcular el riesgo total (desviación estándar) del portafolio\n",
        "def calcular_riesgo_portafolio(w1, w2, sigma1, sigma2, correlacion):\n",
        "    return np.sqrt((w1 * sigma1)**2 + (w2 * sigma2)**2 + 2 * w1 * w2 * sigma1 * sigma2 * correlacion)\n",
        "\n",
        "# Correlaciones a evaluar\n",
        "correlaciones = np.linspace(0, 1, 100)\n",
        "\n",
        "# Calcular el riesgo para cada valor de correlación\n",
        "riesgos = [calcular_riesgo_portafolio(w1, w2, sigma1, sigma2, corr) for corr in correlaciones]\n",
        "\n",
        "# Calcular el riesgo inicial con correlación 0.3\n",
        "riesgo_inicial = calcular_riesgo_portafolio(w1, w2, sigma1, sigma2, 0.3)\n",
        "print(f\"Riesgo total del portafolio con correlación 0.3: {riesgo_inicial:.4f} (6.63%)\")\n",
        "\n",
        "# Calcular el riesgo con correlación 0.5\n",
        "riesgo_correlacion_05 = calcular_riesgo_portafolio(w1, w2, sigma1, sigma2, 0.5)\n",
        "print(f\"Riesgo total del portafolio con correlación 0.5: {riesgo_correlacion_05:.4f} (7.15%)\")\n",
        "\n",
        "# Generar la gráfica\n",
        "plt.figure(figsize=(10, 6))\n",
        "plt.plot(correlaciones, riesgos, label=\"Riesgo total del portafolio\", color='blue')\n",
        "plt.axvline(x=0.3, color='green', linestyle='--', label=\"Correlación 0.3 (Inicial)\")\n",
        "plt.axvline(x=0.5, color='red', linestyle='--', label=\"Correlación 0.5\")\n",
        "plt.title(\"Evolución del Riesgo del Portafolio según la Correlación\")\n",
        "plt.xlabel(\"Correlación entre Acciones y Bonos\")\n",
        "plt.ylabel(\"Riesgo Total (Desviación Estándar)\")\n",
        "plt.grid(True)\n",
        "plt.legend()\n",
        "plt.show()\n"
      ],
      "metadata": {
        "id": "9z2D5xD6hxe0"
      },
      "execution_count": null,
      "outputs": []
    }
  ]
}